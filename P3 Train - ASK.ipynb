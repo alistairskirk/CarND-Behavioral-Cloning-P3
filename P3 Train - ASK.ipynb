{
 "cells": [
  {
   "cell_type": "markdown",
   "metadata": {},
   "source": [
    "# Behavioural Cloning Project 3\n",
    "### Self Driving Car ND Course - Alistair Kirk Mar 29 2017"
   ]
  },
  {
   "cell_type": "markdown",
   "metadata": {},
   "source": [
    "#### Begin by importing the training data and saving it to an h5 model:"
   ]
  },
  {
   "cell_type": "code",
   "execution_count": null,
   "metadata": {
    "collapsed": false
   },
   "outputs": [],
   "source": [
    "import csv\n",
    "import numpy as np\n",
    "import cv2\n",
    "from tqdm import tqdm \n",
    "\n",
    "lines = []\n",
    "# CSV Data Structure: center,left,right,steering,throttle,brake,speed\n",
    "with open('data/driving_log.csv') as csvfile:\n",
    "    reader = csv.reader(csvfile)\n",
    "    for line in reader:\n",
    "        lines.append(line)\n",
    "        \n",
    "images = []\n",
    "measurements = []\n",
    "\n",
    "correction = 0.2\n",
    "\n",
    "for line in tqdm(lines):\n",
    "    #Find the steering angle for this line:\n",
    "    measurement = float(line[3])\n",
    "\n",
    "    #Create steering adjustments for different cameras        \n",
    "    steering_center = measurement\n",
    "    steering_left = steering_center + correction\n",
    "    steering_right = steering_center - correction\n",
    "    steering_correction = [steering_center, steering_left, steering_right]\n",
    "        \n",
    "    for i in range(3):\n",
    "        source_path = line[i]\n",
    "        filename = source_path.split('/')[-1]\n",
    "        current_path = 'data/IMG/' + filename\n",
    "        image = cv2.imread(current_path)\n",
    "        images.append(image)                \n",
    "        measurements.append(steering_correction[i])        \n",
    "\n",
    "aug_images, aug_measurements = [],[]\n",
    "for image, measurement in zip(images, measurements):\n",
    "    aug_images.append(image)\n",
    "    aug_measurements.append(measurement)\n",
    "    aug_images.append(cv2.flip(image,1))\n",
    "    aug_measurements.append(measurement*-1.0)\n",
    "    \n",
    "X_train = np.array(aug_images)\n",
    "y_train = np.array(aug_measurements)\n",
    "\n",
    "print(\"X_train, y_train compiled with augmented shapes {}, {}\".format(X_train.shape, y_train.shape))"
   ]
  },
  {
   "cell_type": "markdown",
   "metadata": {},
   "source": [
    "#### Alternatively: Use a Generator Function to handle large datasets"
   ]
  },
  {
   "cell_type": "code",
   "execution_count": 1,
   "metadata": {
    "collapsed": false
   },
   "outputs": [
    {
     "name": "stdout",
     "output_type": "stream",
     "text": [
      "Using 16388 Training Samples and 4098 Validation Samples\n"
     ]
    }
   ],
   "source": [
    "import os\n",
    "import csv\n",
    "\n",
    "samples = []\n",
    "with open('data/driving_log.csv') as csvfile:\n",
    "    reader = csv.reader(csvfile)\n",
    "    for line in reader:\n",
    "        samples.append(line)\n",
    "\n",
    "from sklearn.model_selection import train_test_split\n",
    "train_samples, validation_samples = train_test_split(samples, test_size=0.2)\n",
    "\n",
    "print(\"Using {} Training Samples and {} Validation Samples\".format(len(train_samples),\n",
    "                                                                   len(validation_samples)))\n",
    "\n",
    "import cv2\n",
    "import numpy as np\n",
    "import sklearn\n",
    "\n",
    "def generator(samples, batch_size=32):\n",
    "    num_samples = len(samples)\n",
    "    while 1: # Loop forever so the generator never terminates\n",
    "        shuffle(samples)\n",
    "        for offset in range(0, num_samples, batch_size):\n",
    "            batch_samples = samples[offset:offset+batch_size]\n",
    "\n",
    "            images = []\n",
    "            angles = []\n",
    "            \n",
    "            # Define camera correction factor for L/R Cams:\n",
    "            correction = 0.35\n",
    "            \n",
    "            # Create images and angles:\n",
    "            for batch_sample in batch_samples:\n",
    "                measurement = float(batch_sample[3])\n",
    "                \n",
    "                #Create steering adjustments for different cameras        \n",
    "                steering_center = measurement\n",
    "                steering_left = steering_center + correction\n",
    "                steering_right = steering_center - correction\n",
    "                steering_correction = [steering_center, steering_left, steering_right]\n",
    "                \n",
    "                for i in range(3):\n",
    "                    source_path = batch_sample[i]\n",
    "                    filename = source_path.split('/')[-1]\n",
    "                    current_path = 'data/IMG/' + filename\n",
    "                    image = cv2.imread(current_path)\n",
    "                    images.append(image)                \n",
    "                    angles.append(steering_correction[i])\n",
    "                \n",
    "                #name = './IMG/'+batch_sample[0].split('/')[-1]\n",
    "                #center_image = cv2.imread(name)\n",
    "                #center_angle = float(batch_sample[3])\n",
    "                #images.append(center_image)\n",
    "                #angles.append(center_angle)\n",
    "            aug_images, aug_angles = [],[]\n",
    "            for image, angle in zip(images, angles):\n",
    "                aug_images.append(image)\n",
    "                aug_angles.append(angle)\n",
    "                aug_images.append(cv2.flip(image,1))\n",
    "                aug_angles.append(angle*-1.0)\n",
    "            \n",
    "            X_train = np.array(aug_images)\n",
    "            y_train = np.array(aug_angles)\n",
    "            yield sklearn.utils.shuffle(X_train, y_train)"
   ]
  },
  {
   "cell_type": "markdown",
   "metadata": {},
   "source": [
    "#### Build neural network to train the model then save it"
   ]
  },
  {
   "cell_type": "code",
   "execution_count": 5,
   "metadata": {
    "collapsed": false,
    "scrolled": true
   },
   "outputs": [
    {
     "name": "stdout",
     "output_type": "stream",
     "text": [
      "Epoch 1/4\n",
      "175s - loss: 0.0668 - val_loss: 0.0583\n",
      "Epoch 2/4\n",
      "162s - loss: 0.0515 - val_loss: 0.0491\n",
      "Epoch 3/4\n",
      "163s - loss: 0.0485 - val_loss: 0.0456\n",
      "Epoch 4/4\n",
      "163s - loss: 0.0451 - val_loss: 0.0427\n",
      "dict_keys(['loss', 'val_loss'])\n"
     ]
    },
    {
     "data": {
      "image/png": "[encoded data removed]",
      "text/plain": [
       "<matplotlib.figure.Figure at 0x18ec1b4e320>"
      ]
     },
     "metadata": {},
     "output_type": "display_data"
    },
    {
     "name": "stdout",
     "output_type": "stream",
     "text": [
      "model saved\n",
      "walltime: 666 seconds\n",
      "166.5 seconds per epoch\n"
     ]
    }
   ],
   "source": [
    "from keras.models import Sequential\n",
    "from keras.layers import Flatten, Dense, Lambda, Cropping2D, Dropout\n",
    "from keras.layers.convolutional import Conv2D\n",
    "from keras.layers.pooling import MaxPooling2D\n",
    "import matplotlib.pyplot as plt\n",
    "%matplotlib inline\n",
    "from sklearn.utils import shuffle\n",
    "\n",
    "import time\n",
    "\n",
    "t = time.time()\n",
    "\n",
    "EPOCHS = 4\n",
    "b_size = 32\n",
    "#print(\"Training: {} images over {} epochs\".format(X_train.shape[0],EPOCHS))\n",
    "\n",
    "#Compile and train the model using the generator function\n",
    "train_generator = generator(train_samples, batch_size=b_size)\n",
    "validation_generator = generator(validation_samples, batch_size=b_size)\n",
    "\n",
    "model = Sequential()\n",
    "#Adding a normalization lambda function to shift the mean down to between -0.5 and 0.5 for each pixel\n",
    "model.add(Lambda(lambda x: x / 255.0 - 0.5,input_shape=(160,320,3)))\n",
    "model.add(Cropping2D(cropping=((70,25),(0,0))))\n",
    "model.add(Conv2D(24,(5,5),activation=\"relu\",strides=(2, 2)))\n",
    "model.add(Conv2D(36,(5,5),activation=\"relu\",strides=(2, 2)))\n",
    "model.add(Conv2D(48,(5,5),activation=\"relu\",strides=(2, 2)))\n",
    "model.add(Dropout(0.2))\n",
    "model.add(Conv2D(64,(3,3),activation=\"relu\",strides=(1, 1)))\n",
    "model.add(Dropout(0.3))\n",
    "model.add(Conv2D(64,(3,3),activation=\"relu\",strides=(1, 1)))\n",
    "model.add(Dropout(0.5))\n",
    "model.add(Flatten())\n",
    "model.add(Dense(1164))\n",
    "model.add(Dense(100))\n",
    "model.add(Dense(50))\n",
    "model.add(Dense(10))\n",
    "model.add(Dense(1))\n",
    "\n",
    "model.compile(loss='mse', optimizer='adam')\n",
    "#model.fit(X_train, y_train, validation_split = 0.2, shuffle = True, epochs = EPOCHS, verbose = 2)\n",
    "\n",
    "history_object = model.fit_generator(train_generator, steps_per_epoch =\n",
    "    len(train_samples)/b_size, validation_data = \n",
    "    validation_generator,\n",
    "    validation_steps = len(validation_samples)/b_size, \n",
    "    epochs=EPOCHS, verbose=2)\n",
    "\n",
    "### print the keys contained in the history object\n",
    "print(history_object.history.keys())\n",
    "\n",
    "### plot the training and validation loss for each epoch\n",
    "plt.plot(history_object.history['loss'])\n",
    "plt.plot(history_object.history['val_loss'])\n",
    "plt.title('model mean squared error loss')\n",
    "plt.ylabel('mean squared error loss')\n",
    "plt.xlabel('epoch')\n",
    "plt.legend(['training set', 'validation set'], loc='upper right')\n",
    "plt.show()\n",
    "\n",
    "model.save('model.h5')\n",
    "print(\"model saved\")\n",
    "walltime = int(time.time()-t)\n",
    "print(\"walltime: {} seconds\".format(walltime))\n",
    "print(\"{} seconds per epoch\".format(walltime/int(EPOCHS)))"
   ]
  },
  {
   "cell_type": "code",
   "execution_count": null,
   "metadata": {
    "collapsed": true
   },
   "outputs": [],
   "source": []
  }
 ],
 "metadata": {
  "kernelspec": {
   "display_name": "Python 3",
   "language": "python",
   "name": "python3"
  },
  "language_info": {
   "codemirror_mode": {
    "name": "ipython",
    "version": 3
   },
   "file_extension": ".py",
   "mimetype": "text/x-python",
   "name": "python",
   "nbconvert_exporter": "python",
   "pygments_lexer": "ipython3",
   "version": "3.5.2"
  }
 },
 "nbformat": 4,
 "nbformat_minor": 2
}
